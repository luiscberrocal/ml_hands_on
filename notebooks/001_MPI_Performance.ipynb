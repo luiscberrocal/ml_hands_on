{
 "cells": [
  {
   "cell_type": "markdown",
   "id": "5c022f36",
   "metadata": {},
   "source": [
    "# Iterrows Perfomance\n"
   ]
  },
  {
   "cell_type": "code",
   "execution_count": 6,
   "id": "9cc5ba31",
   "metadata": {},
   "outputs": [],
   "source": [
    "from pathlib import Path\n",
    "import csv\n",
    "import time\n",
    "\n",
    "import matplotlib.pyplot as plt\n",
    "\n",
    "import numpy as np\n",
    "import pandas as pd\n",
    "from tqdm import tqdm\n",
    "import seaborn as sns\n",
    "\n",
    "\n",
    "from sklearn.base import TransformerMixin\n",
    "from sklearn.impute import SimpleImputer\n",
    "from sklearn.base import BaseEstimator\n",
    "from sklearn.model_selection import StratifiedShuffleSplit\n",
    "\n",
    "%matplotlib inline"
   ]
  },
  {
   "cell_type": "code",
   "execution_count": 2,
   "id": "ec1d19ab",
   "metadata": {},
   "outputs": [
    {
     "name": "stdout",
     "output_type": "stream",
     "text": [
      "Path: /home/luiscberrocal/PycharmProjects/ml_hands_on/data/housing exists: True\n"
     ]
    }
   ],
   "source": [
    "data_path = Path().resolve().parent / 'data' / 'housing'\n",
    "data_file = data_path / 'housing.csv'\n",
    "print(f'Path: {data_path} exists: {data_path.exists()}')"
   ]
  },
  {
   "cell_type": "markdown",
   "id": "4d5648b4",
   "metadata": {},
   "source": [
    "## Load data"
   ]
  },
  {
   "cell_type": "code",
   "execution_count": 3,
   "id": "bb9c03e6",
   "metadata": {},
   "outputs": [
    {
     "data": {
      "text/html": [
       "<div>\n",
       "<style scoped>\n",
       "    .dataframe tbody tr th:only-of-type {\n",
       "        vertical-align: middle;\n",
       "    }\n",
       "\n",
       "    .dataframe tbody tr th {\n",
       "        vertical-align: top;\n",
       "    }\n",
       "\n",
       "    .dataframe thead th {\n",
       "        text-align: right;\n",
       "    }\n",
       "</style>\n",
       "<table border=\"1\" class=\"dataframe\">\n",
       "  <thead>\n",
       "    <tr style=\"text-align: right;\">\n",
       "      <th></th>\n",
       "      <th>longitude</th>\n",
       "      <th>latitude</th>\n",
       "      <th>housing_median_age</th>\n",
       "      <th>total_rooms</th>\n",
       "      <th>total_bedrooms</th>\n",
       "      <th>population</th>\n",
       "      <th>households</th>\n",
       "      <th>median_income</th>\n",
       "      <th>median_house_value</th>\n",
       "      <th>ocean_proximity</th>\n",
       "    </tr>\n",
       "  </thead>\n",
       "  <tbody>\n",
       "    <tr>\n",
       "      <th>0</th>\n",
       "      <td>-122.23</td>\n",
       "      <td>37.88</td>\n",
       "      <td>41.0</td>\n",
       "      <td>880.0</td>\n",
       "      <td>129.0</td>\n",
       "      <td>322.0</td>\n",
       "      <td>126.0</td>\n",
       "      <td>8.3252</td>\n",
       "      <td>452600.0</td>\n",
       "      <td>NEAR BAY</td>\n",
       "    </tr>\n",
       "    <tr>\n",
       "      <th>1</th>\n",
       "      <td>-122.22</td>\n",
       "      <td>37.86</td>\n",
       "      <td>21.0</td>\n",
       "      <td>7099.0</td>\n",
       "      <td>1106.0</td>\n",
       "      <td>2401.0</td>\n",
       "      <td>1138.0</td>\n",
       "      <td>8.3014</td>\n",
       "      <td>358500.0</td>\n",
       "      <td>NEAR BAY</td>\n",
       "    </tr>\n",
       "    <tr>\n",
       "      <th>2</th>\n",
       "      <td>-122.24</td>\n",
       "      <td>37.85</td>\n",
       "      <td>52.0</td>\n",
       "      <td>1467.0</td>\n",
       "      <td>190.0</td>\n",
       "      <td>496.0</td>\n",
       "      <td>177.0</td>\n",
       "      <td>7.2574</td>\n",
       "      <td>352100.0</td>\n",
       "      <td>NEAR BAY</td>\n",
       "    </tr>\n",
       "    <tr>\n",
       "      <th>3</th>\n",
       "      <td>-122.25</td>\n",
       "      <td>37.85</td>\n",
       "      <td>52.0</td>\n",
       "      <td>1274.0</td>\n",
       "      <td>235.0</td>\n",
       "      <td>558.0</td>\n",
       "      <td>219.0</td>\n",
       "      <td>5.6431</td>\n",
       "      <td>341300.0</td>\n",
       "      <td>NEAR BAY</td>\n",
       "    </tr>\n",
       "    <tr>\n",
       "      <th>4</th>\n",
       "      <td>-122.25</td>\n",
       "      <td>37.85</td>\n",
       "      <td>52.0</td>\n",
       "      <td>1627.0</td>\n",
       "      <td>280.0</td>\n",
       "      <td>565.0</td>\n",
       "      <td>259.0</td>\n",
       "      <td>3.8462</td>\n",
       "      <td>342200.0</td>\n",
       "      <td>NEAR BAY</td>\n",
       "    </tr>\n",
       "  </tbody>\n",
       "</table>\n",
       "</div>"
      ],
      "text/plain": [
       "   longitude  latitude  housing_median_age  total_rooms  total_bedrooms  \\\n",
       "0    -122.23     37.88                41.0        880.0           129.0   \n",
       "1    -122.22     37.86                21.0       7099.0          1106.0   \n",
       "2    -122.24     37.85                52.0       1467.0           190.0   \n",
       "3    -122.25     37.85                52.0       1274.0           235.0   \n",
       "4    -122.25     37.85                52.0       1627.0           280.0   \n",
       "\n",
       "   population  households  median_income  median_house_value ocean_proximity  \n",
       "0       322.0       126.0         8.3252            452600.0        NEAR BAY  \n",
       "1      2401.0      1138.0         8.3014            358500.0        NEAR BAY  \n",
       "2       496.0       177.0         7.2574            352100.0        NEAR BAY  \n",
       "3       558.0       219.0         5.6431            341300.0        NEAR BAY  \n",
       "4       565.0       259.0         3.8462            342200.0        NEAR BAY  "
      ]
     },
     "execution_count": 3,
     "metadata": {},
     "output_type": "execute_result"
    }
   ],
   "source": [
    "df = pd.read_csv(data_file)\n",
    "df.head()"
   ]
  },
  {
   "cell_type": "code",
   "execution_count": 4,
   "id": "e7c3ece7",
   "metadata": {},
   "outputs": [
    {
     "data": {
      "text/plain": [
       "(20640, 10)"
      ]
     },
     "execution_count": 4,
     "metadata": {},
     "output_type": "execute_result"
    }
   ],
   "source": [
    "df.shape"
   ]
  },
  {
   "cell_type": "code",
   "execution_count": 5,
   "id": "0373e6f0",
   "metadata": {},
   "outputs": [
    {
     "name": "stdout",
     "output_type": "stream",
     "text": [
      "CPU times: user 667 ms, sys: 2.86 ms, total: 670 ms\n",
      "Wall time: 669 ms\n"
     ]
    }
   ],
   "source": [
    "%%time\n",
    "for idx, row in df.iterrows():\n",
    "    temp = row['longitude'] + row['latitude']"
   ]
  },
  {
   "cell_type": "code",
   "execution_count": 6,
   "id": "d5d435ea",
   "metadata": {},
   "outputs": [
    {
     "name": "stdout",
     "output_type": "stream",
     "text": [
      "CPU times: user 22.8 ms, sys: 3.94 ms, total: 26.7 ms\n",
      "Wall time: 25.8 ms\n"
     ]
    }
   ],
   "source": [
    "%%time\n",
    "for row in df.itertuples():\n",
    "    temp = row.longitude + row.latitude"
   ]
  },
  {
   "cell_type": "code",
   "execution_count": 14,
   "id": "46a183b5",
   "metadata": {},
   "outputs": [
    {
     "name": "stdout",
     "output_type": "stream",
     "text": [
      "CPU times: user 87.9 ms, sys: 1.88 ms, total: 89.8 ms\n",
      "Wall time: 89.5 ms\n"
     ]
    }
   ],
   "source": [
    "%%time\n",
    "for row in df.to_dict('records'):\n",
    "    #print(row)\n",
    "    temp = row['longitude'] + row['latitude']"
   ]
  },
  {
   "cell_type": "code",
   "execution_count": 19,
   "id": "f34d1c1a",
   "metadata": {},
   "outputs": [
    {
     "name": "stdout",
     "output_type": "stream",
     "text": [
      "CPU times: user 27.2 ms, sys: 5.15 ms, total: 32.3 ms\n",
      "Wall time: 27.7 ms\n"
     ]
    }
   ],
   "source": [
    "%%time\n",
    "with open(data_file, 'r') as csv_file:\n",
    "    reader = csv.reader(csv_file)\n",
    "    next(reader)\n",
    "    for row in reader:\n",
    "        temp = float(row[0])+ float(row[1])"
   ]
  },
  {
   "cell_type": "markdown",
   "id": "ab7ece62",
   "metadata": {},
   "source": [
    "## Random dataframe generation"
   ]
  },
  {
   "cell_type": "code",
   "execution_count": 10,
   "id": "9d09d088",
   "metadata": {},
   "outputs": [],
   "source": [
    "res_dict = dict()\n",
    "max_rows = 100_000\n",
    "steps = 1000\n",
    "start_row = 1000\n"
   ]
  },
  {
   "cell_type": "code",
   "execution_count": 11,
   "id": "b782926e",
   "metadata": {},
   "outputs": [
    {
     "name": "stderr",
     "output_type": "stream",
     "text": [
      "100%|████████████████████████████████████████████████████████████████████████████████████████████████████████████████████████████████████| 99/99 [02:33<00:00,  1.55s/it]"
     ]
    },
    {
     "name": "stdout",
     "output_type": "stream",
     "text": [
      "CPU times: user 2min 33s, sys: 58.8 ms, total: 2min 33s\n",
      "Wall time: 2min 33s\n"
     ]
    },
    {
     "name": "stderr",
     "output_type": "stream",
     "text": [
      "\n"
     ]
    }
   ],
   "source": [
    "%%time\n",
    "rows = list()\n",
    "iter_rows_list = list()\n",
    "iter_tuples_list = list()\n",
    "iter_to_dict_list = list()\n",
    "\n",
    "for row_count in tqdm(range(start_row, max_rows, steps)):\n",
    "    rows.append(row_count)\n",
    "    df = pd.DataFrame(np.random.randint(0,100,size=(row_count, 4)), columns=list('ABCD'))\n",
    "    \n",
    "    elapsed_values = list()\n",
    "    start = time.time()\n",
    "    for idx, row in df.iterrows():\n",
    "        temp = row['A'] + row['B']\n",
    "    elapsed = (time.time() - start) *1000\n",
    "    iter_rows_list.append(elapsed)\n",
    "    #print(f'Iterrows Rows: {row_count} elapsed {elapsed:.2f} ms')\n",
    "    \n",
    "    \n",
    "    start = time.time()\n",
    "    for row in df.itertuples():\n",
    "        temp = row.A + row.B\n",
    "    elapsed = (time.time() - start) *1000\n",
    "    iter_tuples_list.append(elapsed)\n",
    "    \n",
    "    start = time.time()\n",
    "    for row in df.to_dict('records'):\n",
    "        temp = row['A'] + row['B']\n",
    "    elapsed = (time.time() - start) *1000\n",
    "    iter_to_dict_list.append(elapsed)\n",
    "    \n",
    "    "
   ]
  },
  {
   "cell_type": "code",
   "execution_count": 12,
   "id": "a577da07",
   "metadata": {},
   "outputs": [
    {
     "data": {
      "text/html": [
       "<div>\n",
       "<style scoped>\n",
       "    .dataframe tbody tr th:only-of-type {\n",
       "        vertical-align: middle;\n",
       "    }\n",
       "\n",
       "    .dataframe tbody tr th {\n",
       "        vertical-align: top;\n",
       "    }\n",
       "\n",
       "    .dataframe thead th {\n",
       "        text-align: right;\n",
       "    }\n",
       "</style>\n",
       "<table border=\"1\" class=\"dataframe\">\n",
       "  <thead>\n",
       "    <tr style=\"text-align: right;\">\n",
       "      <th></th>\n",
       "      <th>Iter rows</th>\n",
       "      <th>Iter tuples</th>\n",
       "      <th>To dict</th>\n",
       "    </tr>\n",
       "  </thead>\n",
       "  <tbody>\n",
       "    <tr>\n",
       "      <th>1000</th>\n",
       "      <td>39.988756</td>\n",
       "      <td>1.010418</td>\n",
       "      <td>2.405643</td>\n",
       "    </tr>\n",
       "    <tr>\n",
       "      <th>2000</th>\n",
       "      <td>64.108372</td>\n",
       "      <td>1.355410</td>\n",
       "      <td>3.903151</td>\n",
       "    </tr>\n",
       "    <tr>\n",
       "      <th>3000</th>\n",
       "      <td>90.145588</td>\n",
       "      <td>1.921177</td>\n",
       "      <td>5.541086</td>\n",
       "    </tr>\n",
       "    <tr>\n",
       "      <th>4000</th>\n",
       "      <td>108.044863</td>\n",
       "      <td>2.038717</td>\n",
       "      <td>7.152796</td>\n",
       "    </tr>\n",
       "    <tr>\n",
       "      <th>5000</th>\n",
       "      <td>146.928310</td>\n",
       "      <td>3.029108</td>\n",
       "      <td>9.845972</td>\n",
       "    </tr>\n",
       "  </tbody>\n",
       "</table>\n",
       "</div>"
      ],
      "text/plain": [
       "       Iter rows  Iter tuples   To dict\n",
       "1000   39.988756     1.010418  2.405643\n",
       "2000   64.108372     1.355410  3.903151\n",
       "3000   90.145588     1.921177  5.541086\n",
       "4000  108.044863     2.038717  7.152796\n",
       "5000  146.928310     3.029108  9.845972"
      ]
     },
     "execution_count": 12,
     "metadata": {},
     "output_type": "execute_result"
    }
   ],
   "source": [
    "res_data = {'Iter rows': iter_rows_list, 'Iter tuples': iter_tuples_list, 'To dict': iter_to_dict_list}\n",
    "res_df = pd.DataFrame(res_data, index=rows)\n",
    "\n",
    "res_df.head()"
   ]
  },
  {
   "cell_type": "code",
   "execution_count": 13,
   "id": "1a831d51",
   "metadata": {},
   "outputs": [
    {
     "data": {
      "text/html": [
       "<div>\n",
       "<style scoped>\n",
       "    .dataframe tbody tr th:only-of-type {\n",
       "        vertical-align: middle;\n",
       "    }\n",
       "\n",
       "    .dataframe tbody tr th {\n",
       "        vertical-align: top;\n",
       "    }\n",
       "\n",
       "    .dataframe thead th {\n",
       "        text-align: right;\n",
       "    }\n",
       "</style>\n",
       "<table border=\"1\" class=\"dataframe\">\n",
       "  <thead>\n",
       "    <tr style=\"text-align: right;\">\n",
       "      <th></th>\n",
       "      <th>Iter rows</th>\n",
       "      <th>Iter tuples</th>\n",
       "      <th>To dict</th>\n",
       "    </tr>\n",
       "  </thead>\n",
       "  <tbody>\n",
       "    <tr>\n",
       "      <th>count</th>\n",
       "      <td>99.000000</td>\n",
       "      <td>99.000000</td>\n",
       "      <td>99.000000</td>\n",
       "    </tr>\n",
       "    <tr>\n",
       "      <th>mean</th>\n",
       "      <td>1426.510835</td>\n",
       "      <td>27.508748</td>\n",
       "      <td>98.098880</td>\n",
       "    </tr>\n",
       "    <tr>\n",
       "      <th>std</th>\n",
       "      <td>828.715814</td>\n",
       "      <td>16.151013</td>\n",
       "      <td>57.147144</td>\n",
       "    </tr>\n",
       "    <tr>\n",
       "      <th>min</th>\n",
       "      <td>39.988756</td>\n",
       "      <td>1.010418</td>\n",
       "      <td>2.405643</td>\n",
       "    </tr>\n",
       "    <tr>\n",
       "      <th>25%</th>\n",
       "      <td>701.376200</td>\n",
       "      <td>14.002681</td>\n",
       "      <td>50.390005</td>\n",
       "    </tr>\n",
       "    <tr>\n",
       "      <th>50%</th>\n",
       "      <td>1417.747498</td>\n",
       "      <td>26.578665</td>\n",
       "      <td>98.043442</td>\n",
       "    </tr>\n",
       "    <tr>\n",
       "      <th>75%</th>\n",
       "      <td>2187.213540</td>\n",
       "      <td>41.123271</td>\n",
       "      <td>149.009228</td>\n",
       "    </tr>\n",
       "    <tr>\n",
       "      <th>max</th>\n",
       "      <td>2809.220076</td>\n",
       "      <td>59.531450</td>\n",
       "      <td>209.372044</td>\n",
       "    </tr>\n",
       "  </tbody>\n",
       "</table>\n",
       "</div>"
      ],
      "text/plain": [
       "         Iter rows  Iter tuples     To dict\n",
       "count    99.000000    99.000000   99.000000\n",
       "mean   1426.510835    27.508748   98.098880\n",
       "std     828.715814    16.151013   57.147144\n",
       "min      39.988756     1.010418    2.405643\n",
       "25%     701.376200    14.002681   50.390005\n",
       "50%    1417.747498    26.578665   98.043442\n",
       "75%    2187.213540    41.123271  149.009228\n",
       "max    2809.220076    59.531450  209.372044"
      ]
     },
     "execution_count": 13,
     "metadata": {},
     "output_type": "execute_result"
    }
   ],
   "source": [
    "res_df.describe()"
   ]
  },
  {
   "cell_type": "code",
   "execution_count": 25,
   "id": "50ee2314",
   "metadata": {},
   "outputs": [
    {
     "data": {
      "text/plain": [
       "<AxesSubplot:title={'center':'Iteration performance'}, xlabel='Record count', ylabel='Elapsed time iterating (ms)'>"
      ]
     },
     "execution_count": 25,
     "metadata": {},
     "output_type": "execute_result"
    },
    {
     "data": {
      "image/png": "[encoded data removed]",
      "text/plain": [
       "<Figure size 1296x576 with 1 Axes>"
      ]
     },
     "metadata": {
      "needs_background": "light"
     },
     "output_type": "display_data"
    }
   ],
   "source": [
    "# ax = plt.gca()\n",
    "\n",
    "res_df.plot.line(title='Iteration performance', xlabel='Record count',\n",
    "                 ylabel='Elapsed time iterating (ms)', figsize=(18,8))\n"
   ]
  },
  {
   "cell_type": "markdown",
   "id": "6b981729",
   "metadata": {},
   "source": [
    "## Hashing algorithms\n"
   ]
  },
  {
   "cell_type": "code",
   "execution_count": 25,
   "id": "a34087a2",
   "metadata": {},
   "outputs": [],
   "source": [
    "import hashlib"
   ]
  },
  {
   "cell_type": "code",
   "execution_count": 31,
   "id": "59ca7360",
   "metadata": {},
   "outputs": [],
   "source": [
    "line = 'k' * 900\n",
    "number_of_iterations = 100_000"
   ]
  },
  {
   "cell_type": "code",
   "execution_count": 32,
   "id": "b2a68308",
   "metadata": {},
   "outputs": [
    {
     "name": "stdout",
     "output_type": "stream",
     "text": [
      "CPU times: user 1e+03 ns, sys: 0 ns, total: 1e+03 ns\n",
      "Wall time: 2.86 µs\n"
     ]
    },
    {
     "name": "stderr",
     "output_type": "stream",
     "text": [
      "100%|███████████████████████████████████████████████████████████████████████████████████████████| 100000/100000 [00:00<00:00, 674726.77it/s]"
     ]
    },
    {
     "name": "stdout",
     "output_type": "stream",
     "text": [
      "Digest: e772308362251a79357604a4a872ee09c40c2466 (40)\n"
     ]
    },
    {
     "name": "stderr",
     "output_type": "stream",
     "text": [
      "\n"
     ]
    }
   ],
   "source": [
    "%time\n",
    "for i in tqdm(range(number_of_iterations)):\n",
    "    hash1 = hashlib.sha1(line.encode('utf-8'))\n",
    "    if i == 0:\n",
    "        digest = hash1.hexdigest()\n",
    "        print(f'Digest: {digest} ({len(digest)})')"
   ]
  },
  {
   "cell_type": "code",
   "execution_count": 33,
   "id": "11d2c0a7",
   "metadata": {},
   "outputs": [
    {
     "name": "stdout",
     "output_type": "stream",
     "text": [
      "CPU times: user 2 µs, sys: 0 ns, total: 2 µs\n",
      "Wall time: 4.53 µs\n"
     ]
    },
    {
     "name": "stderr",
     "output_type": "stream",
     "text": [
      "\r",
      "  0%|                                                                                                            | 0/100000 [00:00<?, ?it/s]"
     ]
    },
    {
     "name": "stdout",
     "output_type": "stream",
     "text": [
      "Digest: a17c16c3bf2c31e6ef487b1a68eddf460d74edbe12ce7f5ca296fd6f6736e3b1 (64)\n"
     ]
    },
    {
     "name": "stderr",
     "output_type": "stream",
     "text": [
      "100%|███████████████████████████████████████████████████████████████████████████████████████████| 100000/100000 [00:00<00:00, 375531.18it/s]\n"
     ]
    }
   ],
   "source": [
    "%time\n",
    "for i in tqdm(range(number_of_iterations)):\n",
    "    hash1 = hashlib.sha256(line.encode('utf-8'))\n",
    "    if i == 0:\n",
    "        digest = hash1.hexdigest()\n",
    "        print(f'Digest: {digest} ({len(digest)})')"
   ]
  },
  {
   "cell_type": "code",
   "execution_count": 34,
   "id": "16127b8b",
   "metadata": {},
   "outputs": [
    {
     "name": "stdout",
     "output_type": "stream",
     "text": [
      "CPU times: user 2 µs, sys: 0 ns, total: 2 µs\n",
      "Wall time: 4.05 µs\n"
     ]
    },
    {
     "name": "stderr",
     "output_type": "stream",
     "text": [
      " 35%|████████████████████████████████▏                                                           | 34967/100000 [00:00<00:00, 349646.16it/s]"
     ]
    },
    {
     "name": "stdout",
     "output_type": "stream",
     "text": [
      "Digest: c392218c7a7d197f32405d5f6ff5fed7e65142a61ec8b9960ecd89d6a5f63927 (64)\n"
     ]
    },
    {
     "name": "stderr",
     "output_type": "stream",
     "text": [
      "100%|███████████████████████████████████████████████████████████████████████████████████████████| 100000/100000 [00:00<00:00, 347271.25it/s]\n"
     ]
    }
   ],
   "source": [
    "%time\n",
    "for i in tqdm(range(number_of_iterations)):\n",
    "    hash1 = hashlib.sha3_256(line.encode('utf-8'))\n",
    "    if i == 0:\n",
    "        digest = hash1.hexdigest()\n",
    "        print(f'Digest: {digest} ({len(digest)})')"
   ]
  },
  {
   "cell_type": "code",
   "execution_count": 35,
   "id": "6b402a51",
   "metadata": {},
   "outputs": [
    {
     "name": "stdout",
     "output_type": "stream",
     "text": [
      "CPU times: user 3 µs, sys: 0 ns, total: 3 µs\n",
      "Wall time: 5.25 µs\n"
     ]
    },
    {
     "name": "stderr",
     "output_type": "stream",
     "text": [
      " 27%|█████████████████████████▏                                                                  | 27328/100000 [00:00<00:00, 273261.37it/s]"
     ]
    },
    {
     "name": "stdout",
     "output_type": "stream",
     "text": [
      "Digest: 1ba467b185cb6df9ed459e45dec82e07dc049e1212a0d9c738232a009bb44fb43a1c156243ec404d0afb153479ccc51f (96)\n"
     ]
    },
    {
     "name": "stderr",
     "output_type": "stream",
     "text": [
      "100%|███████████████████████████████████████████████████████████████████████████████████████████| 100000/100000 [00:00<00:00, 288871.67it/s]\n"
     ]
    }
   ],
   "source": [
    "%time\n",
    "for i in tqdm(range(number_of_iterations)):\n",
    "    hash1 = hashlib.sha3_384(line.encode('utf-8'))\n",
    "    if i == 0:\n",
    "        digest = hash1.hexdigest()\n",
    "        print(f'Digest: {digest} ({len(digest)})')"
   ]
  },
  {
   "cell_type": "code",
   "execution_count": null,
   "id": "24f66455",
   "metadata": {},
   "outputs": [],
   "source": []
  }
 ],
 "metadata": {
  "kernelspec": {
   "display_name": "Python 3 (ipykernel)",
   "language": "python",
   "name": "python3"
  },
  "language_info": {
   "codemirror_mode": {
    "name": "ipython",
    "version": 3
   },
   "file_extension": ".py",
   "mimetype": "text/x-python",
   "name": "python",
   "nbconvert_exporter": "python",
   "pygments_lexer": "ipython3",
   "version": "3.10.4"
  },
  "toc": {
   "base_numbering": 1,
   "nav_menu": {},
   "number_sections": true,
   "sideBar": true,
   "skip_h1_title": true,
   "title_cell": "Table of Contents",
   "title_sidebar": "Contents",
   "toc_cell": false,
   "toc_position": {},
   "toc_section_display": true,
   "toc_window_display": true
  }
 },
 "nbformat": 4,
 "nbformat_minor": 5
}
