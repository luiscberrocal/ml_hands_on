{
 "cells": [
  {
   "cell_type": "markdown",
   "id": "412db647",
   "metadata": {},
   "source": [
    "# Pydantic"
   ]
  },
  {
   "cell_type": "code",
   "execution_count": 82,
   "id": "1ca8c635",
   "metadata": {},
   "outputs": [],
   "source": [
    "from datetime import datetime\n",
    "from decimal import Decimal\n",
    "\n",
    "from pydantic import BaseModel, validator, ValidationError\n",
    "from typing import Union, Optional\n"
   ]
  },
  {
   "cell_type": "code",
   "execution_count": 83,
   "id": "561df460",
   "metadata": {},
   "outputs": [],
   "source": [
    "\n",
    "class ZoralPayment(BaseModel):\n",
    "    id: str\n",
    "    amount: Decimal\n",
    "    payment_date: str\n",
    "    account: str\n",
    "    customer_id: str\n",
    "    contract_id: str\n",
    "    lms_type: int\n",
    "    country_code: str = None\n",
    "\n",
    "    @validator('payment_date', pre=True)\n",
    "    def parse_payment_date(cls, value: Union[datetime, str]):\n",
    "        if isinstance(value, str):\n",
    "            datetime.fromisoformat(value)\n",
    "            return value\n",
    "        else:\n",
    "            return value.isoformat(timespec='microseconds')\n",
    "    \n",
    "    @validator('country_code', pre=True)\n",
    "    def parse_country_code(cls, value):\n",
    "        if value is not None and len(value) == 3:\n",
    "            return value.upper()\n",
    "        elif value is None:\n",
    "            return ''\n",
    "        else:\n",
    "            raise ValueError('Invalid county code')\n"
   ]
  },
  {
   "cell_type": "code",
   "execution_count": 84,
   "id": "b8eb4209",
   "metadata": {},
   "outputs": [
    {
     "name": "stdout",
     "output_type": "stream",
     "text": [
      "id='11' amount=Decimal('100.00') payment_date='2022-07-22T13:03:34.744202' account='5-669998' customer_id='333' contract_id='4-5555' lms_type=4 country_code=None\n"
     ]
    }
   ],
   "source": [
    "data = {'id': '11', 'amount': Decimal('100.00'), 'payment_date': datetime.now(), 'customer_id': '333',\n",
    "        'account': '5-669998',\n",
    "       'contract_id': '4-5555', 'lms_type':4}\n",
    "\n",
    "zoral_payment = ZoralPayment(**data)\n",
    "\n",
    "print(zoral_payment)"
   ]
  },
  {
   "cell_type": "code",
   "execution_count": 85,
   "id": "c99055c6",
   "metadata": {},
   "outputs": [
    {
     "name": "stdout",
     "output_type": "stream",
     "text": [
      "id='11' amount=Decimal('100.00') payment_date='2022-07-22T12:09:38.893086' account='5-669998' customer_id='333' contract_id='4-5555' lms_type=4 country_code=None\n"
     ]
    }
   ],
   "source": [
    "data = {'id': '11', 'amount': Decimal('100.00'), 'payment_date': '2022-07-22T12:09:38.893086', 'customer_id': '333',\n",
    "        'account': '5-669998',\n",
    "       'contract_id': '4-5555', 'lms_type':4}\n",
    "\n",
    "zoral_payment = ZoralPayment(**data)\n",
    "\n",
    "print(zoral_payment)"
   ]
  },
  {
   "cell_type": "code",
   "execution_count": 86,
   "id": "8fe1c84a",
   "metadata": {},
   "outputs": [
    {
     "name": "stdout",
     "output_type": "stream",
     "text": [
      "Error type ValidationError: Error: 3 validation errors for ZoralPayment\n",
      "amount\n",
      "  value is not a valid decimal (type=type_error.decimal)\n",
      "payment_date\n",
      "  month must be in 1..12 (type=value_error)\n",
      "country_code\n",
      "  Invalid county code (type=value_error)\n"
     ]
    }
   ],
   "source": [
    "try:\n",
    "    data = {'id': '11', 'amount': '100.0w', 'payment_date': '2022-97-22T12:09:38.893086', 'customer_id': '333',\n",
    "        'account': '5-669998',\n",
    "       'contract_id': '4-5555', 'lms_type':4, 'country_code': 'k'}\n",
    "\n",
    "    zoral_payment = ZoralPayment(**data)\n",
    "\n",
    "    print(zoral_payment)\n",
    "except ValidationError as e:\n",
    "    print(f'Error type {e.__class__.__name__}: Error: {e}')"
   ]
  },
  {
   "cell_type": "code",
   "execution_count": 87,
   "id": "b80fabb3",
   "metadata": {},
   "outputs": [
    {
     "name": "stdout",
     "output_type": "stream",
     "text": [
      "id='11' amount=Decimal('100') payment_date='2022-07-22T12:09:38.893086' account='5-669998' customer_id='333' contract_id='4-5555' lms_type=4 country_code='PAN'\n"
     ]
    }
   ],
   "source": [
    "try:\n",
    "    data = {'id': '11', 'amount': '100', 'payment_date': '2022-07-22T12:09:38.893086', 'customer_id': '333',\n",
    "        'account': '5-669998',\n",
    "       'contract_id': '4-5555', 'lms_type':4, 'country_code': 'PAN'}\n",
    "\n",
    "    zoral_payment = ZoralPayment(**data)\n",
    "\n",
    "    print(zoral_payment)\n",
    "except ValidationError as e:\n",
    "    print(f'Error type {e.__class__.__name__}: Error: {e}')"
   ]
  },
  {
   "cell_type": "code",
   "execution_count": null,
   "id": "bac91334",
   "metadata": {},
   "outputs": [],
   "source": []
  }
 ],
 "metadata": {
  "kernelspec": {
   "display_name": "Python 3 (ipykernel)",
   "language": "python",
   "name": "python3"
  },
  "language_info": {
   "codemirror_mode": {
    "name": "ipython",
    "version": 3
   },
   "file_extension": ".py",
   "mimetype": "text/x-python",
   "name": "python",
   "nbconvert_exporter": "python",
   "pygments_lexer": "ipython3",
   "version": "3.10.4"
  },
  "toc": {
   "base_numbering": 1,
   "nav_menu": {},
   "number_sections": true,
   "sideBar": true,
   "skip_h1_title": true,
   "title_cell": "Table of Contents",
   "title_sidebar": "Contents",
   "toc_cell": false,
   "toc_position": {},
   "toc_section_display": true,
   "toc_window_display": false
  }
 },
 "nbformat": 4,
 "nbformat_minor": 5
}
