{
 "cells": [
  {
   "cell_type": "markdown",
   "metadata": {
    "collapsed": true
   },
   "source": [
    "# Me in numbers"
   ]
  },
  {
   "cell_type": "code",
   "execution_count": 1,
   "metadata": {
    "pycharm": {
     "name": "#%%\n"
    }
   },
   "outputs": [],
   "source": [
    "\n",
    "from pathlib import Path\n",
    "\n",
    "import matplotlib.pyplot as plt\n",
    "import numpy as np\n",
    "import pandas as pd\n",
    "from sklearn.model_selection import StratifiedShuffleSplit\n",
    "\n",
    "%matplotlib inline"
   ]
  },
  {
   "cell_type": "code",
   "execution_count": 2,
   "metadata": {
    "pycharm": {
     "name": "#%%\n"
    }
   },
   "outputs": [
    {
     "name": "stdout",
     "output_type": "stream",
     "text": [
      "Path: /home/luiscberrocal/PycharmProjects/ml_hands_on/data/me_in_numbers exists: True\n"
     ]
    }
   ],
   "source": [
    "\n",
    "data_path = Path().resolve().parent / 'data' / 'me_in_numbers'\n",
    "weight_data_file = data_path / 'weight' / 'history.csv'\n",
    "print(f'Path: {data_path} exists: {data_path.exists()}')\n"
   ]
  },
  {
   "cell_type": "code",
   "execution_count": 3,
   "metadata": {},
   "outputs": [
    {
     "data": {
      "text/html": [
       "<div>\n",
       "<style scoped>\n",
       "    .dataframe tbody tr th:only-of-type {\n",
       "        vertical-align: middle;\n",
       "    }\n",
       "\n",
       "    .dataframe tbody tr th {\n",
       "        vertical-align: top;\n",
       "    }\n",
       "\n",
       "    .dataframe thead th {\n",
       "        text-align: right;\n",
       "    }\n",
       "</style>\n",
       "<table border=\"1\" class=\"dataframe\">\n",
       "  <thead>\n",
       "    <tr style=\"text-align: right;\">\n",
       "      <th></th>\n",
       "      <th>Weight (lb)</th>\n",
       "      <th>Body Fat</th>\n",
       "      <th>Muscle Mass</th>\n",
       "      <th>Water</th>\n",
       "      <th>BMI</th>\n",
       "      <th>Date/Time</th>\n",
       "    </tr>\n",
       "  </thead>\n",
       "  <tbody>\n",
       "    <tr>\n",
       "      <th>0</th>\n",
       "      <td>172.6</td>\n",
       "      <td>19.6%</td>\n",
       "      <td>36%</td>\n",
       "      <td>62.9%</td>\n",
       "      <td>24.1</td>\n",
       "      <td>Jan 10 2018 12:42:52 PM</td>\n",
       "    </tr>\n",
       "    <tr>\n",
       "      <th>1</th>\n",
       "      <td>172.8</td>\n",
       "      <td>19.7%</td>\n",
       "      <td>36%</td>\n",
       "      <td>62.8%</td>\n",
       "      <td>24.1</td>\n",
       "      <td>Jan 11 2018 07:13:30 AM</td>\n",
       "    </tr>\n",
       "    <tr>\n",
       "      <th>2</th>\n",
       "      <td>173.6</td>\n",
       "      <td>19.8%</td>\n",
       "      <td>35.9%</td>\n",
       "      <td>62.7%</td>\n",
       "      <td>24.2</td>\n",
       "      <td>Jan 12 2018 07:39:54 AM</td>\n",
       "    </tr>\n",
       "    <tr>\n",
       "      <th>3</th>\n",
       "      <td>172.2</td>\n",
       "      <td>19.5%</td>\n",
       "      <td>36%</td>\n",
       "      <td>62.9%</td>\n",
       "      <td>24.0</td>\n",
       "      <td>Jan 13 2018 08:02:41 AM</td>\n",
       "    </tr>\n",
       "    <tr>\n",
       "      <th>4</th>\n",
       "      <td>172.2</td>\n",
       "      <td>19.5%</td>\n",
       "      <td>36%</td>\n",
       "      <td>62.9%</td>\n",
       "      <td>24.0</td>\n",
       "      <td>Jan 13 2018 08:04:04 AM</td>\n",
       "    </tr>\n",
       "  </tbody>\n",
       "</table>\n",
       "</div>"
      ],
      "text/plain": [
       "   Weight (lb) Body Fat Muscle Mass  Water   BMI                Date/Time\n",
       "0        172.6    19.6%         36%  62.9%  24.1  Jan 10 2018 12:42:52 PM\n",
       "1        172.8    19.7%         36%  62.8%  24.1  Jan 11 2018 07:13:30 AM\n",
       "2        173.6    19.8%       35.9%  62.7%  24.2  Jan 12 2018 07:39:54 AM\n",
       "3        172.2    19.5%         36%  62.9%  24.0  Jan 13 2018 08:02:41 AM\n",
       "4        172.2    19.5%         36%  62.9%  24.0  Jan 13 2018 08:04:04 AM"
      ]
     },
     "execution_count": 3,
     "metadata": {},
     "output_type": "execute_result"
    }
   ],
   "source": [
    "df = pd.read_csv(weight_data_file)\n",
    "df.head()"
   ]
  },
  {
   "cell_type": "code",
   "execution_count": 4,
   "metadata": {},
   "outputs": [
    {
     "name": "stdout",
     "output_type": "stream",
     "text": [
      "<class 'pandas.core.frame.DataFrame'>\n",
      "RangeIndex: 1270 entries, 0 to 1269\n",
      "Data columns (total 6 columns):\n",
      " #   Column       Non-Null Count  Dtype  \n",
      "---  ------       --------------  -----  \n",
      " 0   Weight (lb)  1270 non-null   float64\n",
      " 1   Body Fat     1270 non-null   object \n",
      " 2   Muscle Mass  1270 non-null   object \n",
      " 3   Water        1270 non-null   object \n",
      " 4   BMI          1270 non-null   float64\n",
      " 5   Date/Time    1270 non-null   object \n",
      "dtypes: float64(2), object(4)\n",
      "memory usage: 59.7+ KB\n"
     ]
    }
   ],
   "source": [
    "df.info()"
   ]
  },
  {
   "cell_type": "code",
   "execution_count": 6,
   "metadata": {},
   "outputs": [
    {
     "name": "stdout",
     "output_type": "stream",
     "text": [
      "Start: Apr 01 2018 09:53:43 AM End: Sep 30 2021 06:30:50 AM\n"
     ]
    }
   ],
   "source": [
    "start_date = df['Date/Time'].min()\n",
    "end_date = df['Date/Time'].max()\n",
    "\n",
    "print(f'Start: {start_date} End: {end_date}')"
   ]
  },
  {
   "cell_type": "code",
   "execution_count": 9,
   "metadata": {},
   "outputs": [
    {
     "data": {
      "text/plain": [
       "<AxesSubplot:>"
      ]
     },
     "execution_count": 9,
     "metadata": {},
     "output_type": "execute_result"
    },
    {
     "data": {
      "image/png": "[encoded data removed]",
      "text/plain": [
       "<Figure size 432x288 with 1 Axes>"
      ]
     },
     "metadata": {
      "needs_background": "light"
     },
     "output_type": "display_data"
    }
   ],
   "source": [
    "df['Weight (lb)'].hist(bins=20)"
   ]
  },
  {
   "cell_type": "code",
   "execution_count": null,
   "metadata": {},
   "outputs": [],
   "source": []
  }
 ],
 "metadata": {
  "kernelspec": {
   "display_name": "Python 3 (ipykernel)",
   "language": "python",
   "name": "python3"
  },
  "language_info": {
   "codemirror_mode": {
    "name": "ipython",
    "version": 3
   },
   "file_extension": ".py",
   "mimetype": "text/x-python",
   "name": "python",
   "nbconvert_exporter": "python",
   "pygments_lexer": "ipython3",
   "version": "3.9.5"
  },
  "toc": {
   "base_numbering": 1,
   "nav_menu": {},
   "number_sections": true,
   "sideBar": true,
   "skip_h1_title": true,
   "title_cell": "Table of Contents",
   "title_sidebar": "Contents",
   "toc_cell": false,
   "toc_position": {},
   "toc_section_display": true,
   "toc_window_display": false
  }
 },
 "nbformat": 4,
 "nbformat_minor": 1
}
