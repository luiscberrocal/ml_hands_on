{
 "cells": [
  {
   "cell_type": "markdown",
   "metadata": {
    "toc": true
   },
   "source": [
    "<h1>Table of Contents<span class=\"tocSkip\"></span></h1>\n",
    "<div class=\"toc\"><ul class=\"toc-item\"><li><span><a href=\"#Me-in-numbers\" data-toc-modified-id=\"Me-in-numbers-1\"><span class=\"toc-item-num\">1&nbsp;&nbsp;</span>Me in numbers</a></span><ul class=\"toc-item\"><li><span><a href=\"#Weight-Data\" data-toc-modified-id=\"Weight-Data-1.1\"><span class=\"toc-item-num\">1.1&nbsp;&nbsp;</span>Weight Data</a></span><ul class=\"toc-item\"><li><span><a href=\"#Reformatting-Columns\" data-toc-modified-id=\"Reformatting-Columns-1.1.1\"><span class=\"toc-item-num\">1.1.1&nbsp;&nbsp;</span>Reformatting Columns</a></span></li></ul></li></ul></li></ul></div>"
   ]
  },
  {
   "cell_type": "markdown",
   "metadata": {
    "collapsed": true
   },
   "source": [
    "# Me in numbers"
   ]
  },
  {
   "cell_type": "code",
   "execution_count": 18,
   "metadata": {
    "pycharm": {
     "name": "#%%\n"
    }
   },
   "outputs": [],
   "source": [
    "\n",
    "from pathlib import Path\n",
    "import re\n",
    "\n",
    "import matplotlib.pyplot as plt\n",
    "import numpy as np\n",
    "import pandas as pd\n",
    "from sklearn.model_selection import StratifiedShuffleSplit\n",
    "\n",
    "%matplotlib inline"
   ]
  },
  {
   "cell_type": "markdown",
   "metadata": {},
   "source": [
    "## Weight Data"
   ]
  },
  {
   "cell_type": "code",
   "execution_count": 2,
   "metadata": {
    "pycharm": {
     "name": "#%%\n"
    }
   },
   "outputs": [
    {
     "name": "stdout",
     "output_type": "stream",
     "text": [
      "Path: /home/luiscberrocal/PycharmProjects/ml_hands_on/data/me_in_numbers exists: True\n"
     ]
    }
   ],
   "source": [
    "\n",
    "data_path = Path().resolve().parent / 'data' / 'me_in_numbers'\n",
    "weight_data_file = data_path / 'weight' / 'history.csv'\n",
    "print(f'Path: {data_path} exists: {data_path.exists()}')\n"
   ]
  },
  {
   "cell_type": "code",
   "execution_count": 3,
   "metadata": {},
   "outputs": [
    {
     "data": {
      "text/html": [
       "<div>\n",
       "<style scoped>\n",
       "    .dataframe tbody tr th:only-of-type {\n",
       "        vertical-align: middle;\n",
       "    }\n",
       "\n",
       "    .dataframe tbody tr th {\n",
       "        vertical-align: top;\n",
       "    }\n",
       "\n",
       "    .dataframe thead th {\n",
       "        text-align: right;\n",
       "    }\n",
       "</style>\n",
       "<table border=\"1\" class=\"dataframe\">\n",
       "  <thead>\n",
       "    <tr style=\"text-align: right;\">\n",
       "      <th></th>\n",
       "      <th>Weight (lb)</th>\n",
       "      <th>Body Fat</th>\n",
       "      <th>Muscle Mass</th>\n",
       "      <th>Water</th>\n",
       "      <th>BMI</th>\n",
       "      <th>Date/Time</th>\n",
       "    </tr>\n",
       "  </thead>\n",
       "  <tbody>\n",
       "    <tr>\n",
       "      <th>0</th>\n",
       "      <td>172.6</td>\n",
       "      <td>19.6%</td>\n",
       "      <td>36%</td>\n",
       "      <td>62.9%</td>\n",
       "      <td>24.1</td>\n",
       "      <td>Jan 10 2018 12:42:52 PM</td>\n",
       "    </tr>\n",
       "    <tr>\n",
       "      <th>1</th>\n",
       "      <td>172.8</td>\n",
       "      <td>19.7%</td>\n",
       "      <td>36%</td>\n",
       "      <td>62.8%</td>\n",
       "      <td>24.1</td>\n",
       "      <td>Jan 11 2018 07:13:30 AM</td>\n",
       "    </tr>\n",
       "    <tr>\n",
       "      <th>2</th>\n",
       "      <td>173.6</td>\n",
       "      <td>19.8%</td>\n",
       "      <td>35.9%</td>\n",
       "      <td>62.7%</td>\n",
       "      <td>24.2</td>\n",
       "      <td>Jan 12 2018 07:39:54 AM</td>\n",
       "    </tr>\n",
       "    <tr>\n",
       "      <th>3</th>\n",
       "      <td>172.2</td>\n",
       "      <td>19.5%</td>\n",
       "      <td>36%</td>\n",
       "      <td>62.9%</td>\n",
       "      <td>24.0</td>\n",
       "      <td>Jan 13 2018 08:02:41 AM</td>\n",
       "    </tr>\n",
       "    <tr>\n",
       "      <th>4</th>\n",
       "      <td>172.2</td>\n",
       "      <td>19.5%</td>\n",
       "      <td>36%</td>\n",
       "      <td>62.9%</td>\n",
       "      <td>24.0</td>\n",
       "      <td>Jan 13 2018 08:04:04 AM</td>\n",
       "    </tr>\n",
       "  </tbody>\n",
       "</table>\n",
       "</div>"
      ],
      "text/plain": [
       "   Weight (lb) Body Fat Muscle Mass  Water   BMI                Date/Time\n",
       "0        172.6    19.6%         36%  62.9%  24.1  Jan 10 2018 12:42:52 PM\n",
       "1        172.8    19.7%         36%  62.8%  24.1  Jan 11 2018 07:13:30 AM\n",
       "2        173.6    19.8%       35.9%  62.7%  24.2  Jan 12 2018 07:39:54 AM\n",
       "3        172.2    19.5%         36%  62.9%  24.0  Jan 13 2018 08:02:41 AM\n",
       "4        172.2    19.5%         36%  62.9%  24.0  Jan 13 2018 08:04:04 AM"
      ]
     },
     "execution_count": 3,
     "metadata": {},
     "output_type": "execute_result"
    }
   ],
   "source": [
    "df = pd.read_csv(weight_data_file)\n",
    "df.head()"
   ]
  },
  {
   "cell_type": "code",
   "execution_count": 10,
   "metadata": {},
   "outputs": [
    {
     "name": "stdout",
     "output_type": "stream",
     "text": [
      "<class 'pandas.core.frame.DataFrame'>\n",
      "RangeIndex: 1270 entries, 0 to 1269\n",
      "Data columns (total 6 columns):\n",
      " #   Column       Non-Null Count  Dtype  \n",
      "---  ------       --------------  -----  \n",
      " 0   Weight (lb)  1270 non-null   float64\n",
      " 1   Body Fat     1270 non-null   object \n",
      " 2   Muscle Mass  1270 non-null   object \n",
      " 3   Water        1270 non-null   object \n",
      " 4   BMI          1270 non-null   float64\n",
      " 5   Date/Time    1270 non-null   object \n",
      "dtypes: float64(2), object(4)\n",
      "memory usage: 59.7+ KB\n"
     ]
    }
   ],
   "source": [
    "df.info()"
   ]
  },
  {
   "cell_type": "markdown",
   "metadata": {},
   "source": [
    "### Reformatting Columns\n"
   ]
  },
  {
   "cell_type": "code",
   "execution_count": 13,
   "metadata": {},
   "outputs": [],
   "source": [
    "df['date'] =  pd.to_datetime(df['Date/Time'], format='%b %d %Y %I:%M:%S %p')"
   ]
  },
  {
   "cell_type": "code",
   "execution_count": 14,
   "metadata": {},
   "outputs": [
    {
     "name": "stdout",
     "output_type": "stream",
     "text": [
      "Start: 2018-01-10 12:42:52 End: 2022-02-20 09:02:29\n"
     ]
    }
   ],
   "source": [
    "start_date = df['date'].min()\n",
    "end_date = df['date'].max()\n",
    "\n",
    "print(f'Start: {start_date} End: {end_date}')"
   ]
  },
  {
   "cell_type": "code",
   "execution_count": 29,
   "metadata": {},
   "outputs": [],
   "source": [
    "def parse_percentage(value):\n",
    "    regexp = re.compile(r'(?P<num>\\d+\\.?\\d*)%')\n",
    "    match = regexp.match(value)\n",
    "    if match:\n",
    "        float_val = float(match.group('num'))/100.00\n",
    "        return float_val\n",
    "    else:\n",
    "        raise Exception(f'NO MATCH {value}')\n",
    "        \n",
    "    \n",
    "df['body_fat'] = df['Body Fat'].apply(parse_percentage)\n",
    "df['muscle_mass'] = df['Muscle Mass'].apply(parse_percentage)\n",
    "df['water'] = df['Water'].apply(parse_percentage)"
   ]
  },
  {
   "cell_type": "code",
   "execution_count": 31,
   "metadata": {},
   "outputs": [
    {
     "data": {
      "text/html": [
       "<div>\n",
       "<style scoped>\n",
       "    .dataframe tbody tr th:only-of-type {\n",
       "        vertical-align: middle;\n",
       "    }\n",
       "\n",
       "    .dataframe tbody tr th {\n",
       "        vertical-align: top;\n",
       "    }\n",
       "\n",
       "    .dataframe thead th {\n",
       "        text-align: right;\n",
       "    }\n",
       "</style>\n",
       "<table border=\"1\" class=\"dataframe\">\n",
       "  <thead>\n",
       "    <tr style=\"text-align: right;\">\n",
       "      <th></th>\n",
       "      <th>Weight (lb)</th>\n",
       "      <th>BMI</th>\n",
       "      <th>date</th>\n",
       "      <th>body_fat</th>\n",
       "      <th>muscle_mass</th>\n",
       "      <th>water</th>\n",
       "    </tr>\n",
       "  </thead>\n",
       "  <tbody>\n",
       "    <tr>\n",
       "      <th>0</th>\n",
       "      <td>172.6</td>\n",
       "      <td>24.1</td>\n",
       "      <td>2018-01-10 12:42:52</td>\n",
       "      <td>0.196</td>\n",
       "      <td>0.360</td>\n",
       "      <td>0.629</td>\n",
       "    </tr>\n",
       "    <tr>\n",
       "      <th>1</th>\n",
       "      <td>172.8</td>\n",
       "      <td>24.1</td>\n",
       "      <td>2018-01-11 07:13:30</td>\n",
       "      <td>0.197</td>\n",
       "      <td>0.360</td>\n",
       "      <td>0.628</td>\n",
       "    </tr>\n",
       "    <tr>\n",
       "      <th>2</th>\n",
       "      <td>173.6</td>\n",
       "      <td>24.2</td>\n",
       "      <td>2018-01-12 07:39:54</td>\n",
       "      <td>0.198</td>\n",
       "      <td>0.359</td>\n",
       "      <td>0.627</td>\n",
       "    </tr>\n",
       "    <tr>\n",
       "      <th>3</th>\n",
       "      <td>172.2</td>\n",
       "      <td>24.0</td>\n",
       "      <td>2018-01-13 08:02:41</td>\n",
       "      <td>0.195</td>\n",
       "      <td>0.360</td>\n",
       "      <td>0.629</td>\n",
       "    </tr>\n",
       "    <tr>\n",
       "      <th>4</th>\n",
       "      <td>172.2</td>\n",
       "      <td>24.0</td>\n",
       "      <td>2018-01-13 08:04:04</td>\n",
       "      <td>0.195</td>\n",
       "      <td>0.360</td>\n",
       "      <td>0.629</td>\n",
       "    </tr>\n",
       "    <tr>\n",
       "      <th>...</th>\n",
       "      <td>...</td>\n",
       "      <td>...</td>\n",
       "      <td>...</td>\n",
       "      <td>...</td>\n",
       "      <td>...</td>\n",
       "      <td>...</td>\n",
       "    </tr>\n",
       "    <tr>\n",
       "      <th>1265</th>\n",
       "      <td>159.6</td>\n",
       "      <td>22.3</td>\n",
       "      <td>2022-02-16 14:55:35</td>\n",
       "      <td>0.170</td>\n",
       "      <td>0.365</td>\n",
       "      <td>0.654</td>\n",
       "    </tr>\n",
       "    <tr>\n",
       "      <th>1266</th>\n",
       "      <td>160.4</td>\n",
       "      <td>22.4</td>\n",
       "      <td>2022-02-17 05:57:30</td>\n",
       "      <td>0.176</td>\n",
       "      <td>0.362</td>\n",
       "      <td>0.649</td>\n",
       "    </tr>\n",
       "    <tr>\n",
       "      <th>1267</th>\n",
       "      <td>159.8</td>\n",
       "      <td>22.3</td>\n",
       "      <td>2022-02-18 06:07:23</td>\n",
       "      <td>0.173</td>\n",
       "      <td>0.363</td>\n",
       "      <td>0.651</td>\n",
       "    </tr>\n",
       "    <tr>\n",
       "      <th>1268</th>\n",
       "      <td>159.0</td>\n",
       "      <td>22.2</td>\n",
       "      <td>2022-02-19 06:24:31</td>\n",
       "      <td>0.172</td>\n",
       "      <td>0.364</td>\n",
       "      <td>0.652</td>\n",
       "    </tr>\n",
       "    <tr>\n",
       "      <th>1269</th>\n",
       "      <td>157.8</td>\n",
       "      <td>22.0</td>\n",
       "      <td>2022-02-20 09:02:29</td>\n",
       "      <td>0.169</td>\n",
       "      <td>0.365</td>\n",
       "      <td>0.654</td>\n",
       "    </tr>\n",
       "  </tbody>\n",
       "</table>\n",
       "<p>1270 rows × 6 columns</p>\n",
       "</div>"
      ],
      "text/plain": [
       "      Weight (lb)   BMI                date  body_fat  muscle_mass  water\n",
       "0           172.6  24.1 2018-01-10 12:42:52     0.196        0.360  0.629\n",
       "1           172.8  24.1 2018-01-11 07:13:30     0.197        0.360  0.628\n",
       "2           173.6  24.2 2018-01-12 07:39:54     0.198        0.359  0.627\n",
       "3           172.2  24.0 2018-01-13 08:02:41     0.195        0.360  0.629\n",
       "4           172.2  24.0 2018-01-13 08:04:04     0.195        0.360  0.629\n",
       "...           ...   ...                 ...       ...          ...    ...\n",
       "1265        159.6  22.3 2022-02-16 14:55:35     0.170        0.365  0.654\n",
       "1266        160.4  22.4 2022-02-17 05:57:30     0.176        0.362  0.649\n",
       "1267        159.8  22.3 2022-02-18 06:07:23     0.173        0.363  0.651\n",
       "1268        159.0  22.2 2022-02-19 06:24:31     0.172        0.364  0.652\n",
       "1269        157.8  22.0 2022-02-20 09:02:29     0.169        0.365  0.654\n",
       "\n",
       "[1270 rows x 6 columns]"
      ]
     },
     "execution_count": 31,
     "metadata": {},
     "output_type": "execute_result"
    }
   ],
   "source": [
    "df.drop(['Body Fat', 'Muscle Mass', 'Water', 'Date/Time'], axis=1)"
   ]
  },
  {
   "cell_type": "code",
   "execution_count": 38,
   "metadata": {},
   "outputs": [],
   "source": [
    "df.drop(df[df.body_fat == 0.0].index, inplace=True)"
   ]
  },
  {
   "cell_type": "code",
   "execution_count": 39,
   "metadata": {},
   "outputs": [
    {
     "data": {
      "image/png": "[encoded data removed]",
      "text/plain": [
       "<Figure size 1440x1080 with 6 Axes>"
      ]
     },
     "metadata": {
      "needs_background": "light"
     },
     "output_type": "display_data"
    }
   ],
   "source": [
    "df.hist(bins=40, figsize=(20, 15))\n",
    "plt.show()"
   ]
  },
  {
   "cell_type": "code",
   "execution_count": 40,
   "metadata": {},
   "outputs": [
    {
     "data": {
      "text/html": [
       "<div>\n",
       "<style scoped>\n",
       "    .dataframe tbody tr th:only-of-type {\n",
       "        vertical-align: middle;\n",
       "    }\n",
       "\n",
       "    .dataframe tbody tr th {\n",
       "        vertical-align: top;\n",
       "    }\n",
       "\n",
       "    .dataframe thead th {\n",
       "        text-align: right;\n",
       "    }\n",
       "</style>\n",
       "<table border=\"1\" class=\"dataframe\">\n",
       "  <thead>\n",
       "    <tr style=\"text-align: right;\">\n",
       "      <th></th>\n",
       "      <th>Weight (lb)</th>\n",
       "      <th>BMI</th>\n",
       "      <th>body_fat</th>\n",
       "      <th>muscle_mass</th>\n",
       "      <th>water</th>\n",
       "    </tr>\n",
       "  </thead>\n",
       "  <tbody>\n",
       "    <tr>\n",
       "      <th>count</th>\n",
       "      <td>1259.000000</td>\n",
       "      <td>1259.000000</td>\n",
       "      <td>1259.000000</td>\n",
       "      <td>1259.000000</td>\n",
       "      <td>1259.000000</td>\n",
       "    </tr>\n",
       "    <tr>\n",
       "      <th>mean</th>\n",
       "      <td>171.190627</td>\n",
       "      <td>23.870214</td>\n",
       "      <td>0.194878</td>\n",
       "      <td>0.358066</td>\n",
       "      <td>0.630782</td>\n",
       "    </tr>\n",
       "    <tr>\n",
       "      <th>std</th>\n",
       "      <td>6.368299</td>\n",
       "      <td>0.887420</td>\n",
       "      <td>0.012556</td>\n",
       "      <td>0.006649</td>\n",
       "      <td>0.010558</td>\n",
       "    </tr>\n",
       "    <tr>\n",
       "      <th>min</th>\n",
       "      <td>155.000000</td>\n",
       "      <td>21.600000</td>\n",
       "      <td>0.164000</td>\n",
       "      <td>0.340000</td>\n",
       "      <td>0.612000</td>\n",
       "    </tr>\n",
       "    <tr>\n",
       "      <th>25%</th>\n",
       "      <td>167.200000</td>\n",
       "      <td>23.300000</td>\n",
       "      <td>0.186000</td>\n",
       "      <td>0.355000</td>\n",
       "      <td>0.623000</td>\n",
       "    </tr>\n",
       "    <tr>\n",
       "      <th>50%</th>\n",
       "      <td>173.600000</td>\n",
       "      <td>24.200000</td>\n",
       "      <td>0.199000</td>\n",
       "      <td>0.358000</td>\n",
       "      <td>0.627000</td>\n",
       "    </tr>\n",
       "    <tr>\n",
       "      <th>75%</th>\n",
       "      <td>176.000000</td>\n",
       "      <td>24.500000</td>\n",
       "      <td>0.204000</td>\n",
       "      <td>0.363000</td>\n",
       "      <td>0.637000</td>\n",
       "    </tr>\n",
       "    <tr>\n",
       "      <th>max</th>\n",
       "      <td>183.000000</td>\n",
       "      <td>25.500000</td>\n",
       "      <td>0.217000</td>\n",
       "      <td>0.371000</td>\n",
       "      <td>0.658000</td>\n",
       "    </tr>\n",
       "  </tbody>\n",
       "</table>\n",
       "</div>"
      ],
      "text/plain": [
       "       Weight (lb)          BMI     body_fat  muscle_mass        water\n",
       "count  1259.000000  1259.000000  1259.000000  1259.000000  1259.000000\n",
       "mean    171.190627    23.870214     0.194878     0.358066     0.630782\n",
       "std       6.368299     0.887420     0.012556     0.006649     0.010558\n",
       "min     155.000000    21.600000     0.164000     0.340000     0.612000\n",
       "25%     167.200000    23.300000     0.186000     0.355000     0.623000\n",
       "50%     173.600000    24.200000     0.199000     0.358000     0.627000\n",
       "75%     176.000000    24.500000     0.204000     0.363000     0.637000\n",
       "max     183.000000    25.500000     0.217000     0.371000     0.658000"
      ]
     },
     "execution_count": 40,
     "metadata": {},
     "output_type": "execute_result"
    }
   ],
   "source": [
    "df.describe()"
   ]
  },
  {
   "cell_type": "code",
   "execution_count": null,
   "metadata": {},
   "outputs": [],
   "source": []
  }
 ],
 "metadata": {
  "kernelspec": {
   "display_name": "Python 3 (ipykernel)",
   "language": "python",
   "name": "python3"
  },
  "language_info": {
   "codemirror_mode": {
    "name": "ipython",
    "version": 3
   },
   "file_extension": ".py",
   "mimetype": "text/x-python",
   "name": "python",
   "nbconvert_exporter": "python",
   "pygments_lexer": "ipython3",
   "version": "3.9.5"
  },
  "toc": {
   "base_numbering": 1,
   "nav_menu": {},
   "number_sections": true,
   "sideBar": true,
   "skip_h1_title": false,
   "title_cell": "Table of Contents",
   "title_sidebar": "Contents",
   "toc_cell": true,
   "toc_position": {},
   "toc_section_display": true,
   "toc_window_display": true
  }
 },
 "nbformat": 4,
 "nbformat_minor": 1
}
